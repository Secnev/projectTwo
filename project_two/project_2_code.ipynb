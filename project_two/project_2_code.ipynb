{
 "cells": [
  {
   "cell_type": "markdown",
   "id": "805e9ae0",
   "metadata": {},
   "source": [
    "# Project 2"
   ]
  },
  {
   "cell_type": "markdown",
   "id": "35fdc4b8",
   "metadata": {},
   "source": [
    "## Problem 1"
   ]
  },
  {
   "cell_type": "markdown",
   "id": "2e31a773",
   "metadata": {},
   "source": [
    "Find shortest path tree in both directed and undirected weighted graphs for a given source vertex."
   ]
  },
  {
   "cell_type": "markdown",
   "id": "2f71279a",
   "metadata": {},
   "source": [
    "### Method to Create Graph From TXT file"
   ]
  },
  {
   "cell_type": "code",
   "execution_count": 70,
   "id": "6194cc4a",
   "metadata": {},
   "outputs": [],
   "source": [
    "def create_graph_from_file(text_file_name):\n",
    "    \n",
    "    graph = {}\n",
    "    \n",
    "    \n",
    "    with open(text_file_name) as f:\n",
    "        next(f)\n",
    "        while True:\n",
    "            temp_graph ={}\n",
    "            line = f.readline()\n",
    "            if not line:\n",
    "                break\n",
    "            string_list = line.split()\n",
    "            \n",
    "            temp_graph[string_list[1]] = int(string_list[2])\n",
    "            if string_list[0] in graph:\n",
    "                graph[string_list[0]].update(temp_graph)\n",
    "            else:\n",
    "                graph[string_list[0]] = {string_list[1]: int(string_list[2])}\n",
    "            \n",
    "                \n",
    "            if string_list[1] not in graph:\n",
    "                graph[string_list[1]] = {}\n",
    "   \n",
    "\n",
    "    return graph"
   ]
  },
  {
   "cell_type": "markdown",
   "id": "f4e24a75",
   "metadata": {},
   "source": [
    "### Method to Print Results"
   ]
  },
  {
   "cell_type": "code",
   "execution_count": 91,
   "id": "8386e3f4",
   "metadata": {},
   "outputs": [],
   "source": [
    "import math\n",
    "def print_results(graph, source, shortest_distances, predecessors):\n",
    "    for node in graph:\n",
    "        shortest = \"\"\n",
    "        \n",
    "        if math.isinf(shortest_distances[node]):\n",
    "            shortest = \"Unreachable\" \n",
    "        else:\n",
    "            shortest = str(shortest_distances[node])\n",
    "            \n",
    "        path_to_node = shortest_path(predecessors, source_node, node)\n",
    "        print(f\"Shortest path to {node}: {path_to_node}, distance: {shortest}\")"
   ]
  },
  {
   "cell_type": "markdown",
   "id": "201b0772",
   "metadata": {},
   "source": [
    "### Dijkstra's Algorithm"
   ]
  },
  {
   "cell_type": "code",
   "execution_count": 87,
   "id": "1ea85e55",
   "metadata": {},
   "outputs": [],
   "source": [
    "import heapq\n",
    "\n",
    "def dijkstra(graph, source):\n",
    "\n",
    "    distance = {node: float('inf') for node in graph}\n",
    "    distance[source] = 0\n",
    "    predecessors = {node: None for node in graph}\n",
    "    visited = set()\n",
    "    priority_queue = [(0, source)]\n",
    "\n",
    "    while priority_queue:\n",
    "\n",
    "        (current_distance, current_node) = heapq.heappop(priority_queue)\n",
    "\n",
    "        if current_node in visited:\n",
    "            continue\n",
    "\n",
    "\n",
    "        for neighbor, weight in graph[current_node].items():\n",
    "            distance_from_source = current_distance + weight\n",
    "            if distance_from_source < distance[neighbor]:\n",
    "                distance[neighbor] = distance_from_source\n",
    "                predecessors[neighbor] = current_node\n",
    "                heapq.heappush(priority_queue, (distance_from_source, neighbor))\n",
    "\n",
    "\n",
    "        visited.add(current_node)\n",
    "\n",
    "    return distance, predecessors\n",
    "\n",
    "def shortest_path(predecessors, source, target):\n",
    "\n",
    "    path = []\n",
    "    current_node = target\n",
    "    while current_node is not None:\n",
    "        path.append(current_node)\n",
    "        current_node = predecessors[current_node]\n",
    "    return list(reversed(path))\n",
    "\n",
    "\n"
   ]
  },
  {
   "cell_type": "markdown",
   "id": "8aa3a23a",
   "metadata": {},
   "source": [
    "### Graph 1 Results"
   ]
  },
  {
   "cell_type": "code",
   "execution_count": 75,
   "id": "31c5ecdd",
   "metadata": {},
   "outputs": [
    {
     "name": "stdout",
     "output_type": "stream",
     "text": [
      "Shortest path to A: ['A'], distance: 0\n",
      "Shortest path to B: ['A', 'B'], distance: 3\n",
      "Shortest path to F: ['A', 'F'], distance: 2\n",
      "Shortest path to C: ['A', 'B', 'C'], distance: 4\n",
      "Shortest path to E: ['A', 'B', 'E'], distance: 5\n",
      "Shortest path to D: ['A', 'B', 'C', 'D'], distance: 6\n",
      "Shortest path to G: ['A', 'B', 'E', 'G'], distance: 7\n",
      "Shortest path to H: ['A', 'B', 'C', 'D', 'H'], distance: 7\n",
      "Shortest path to I: ['A', 'B', 'E', 'G', 'I'], distance: 8\n"
     ]
    }
   ],
   "source": [
    "graph1 = create_graph_from_file('path_graph_1.txt')\n",
    "\n",
    "source_node1 = 'A'\n",
    "\n",
    "shortest_distances1, predecessors1 = dijkstra(graph1, source_node1)\n",
    "print_results(graph1, source_node1, shortest_distances1, predecessors1)"
   ]
  },
  {
   "cell_type": "markdown",
   "id": "d886b602",
   "metadata": {},
   "source": [
    "### Graph 2 Results"
   ]
  },
  {
   "cell_type": "code",
   "execution_count": 76,
   "id": "44a980ad",
   "metadata": {},
   "outputs": [
    {
     "name": "stdout",
     "output_type": "stream",
     "text": [
      "Shortest path to A: ['A'], distance: 0\n",
      "Shortest path to B: ['A', 'B'], distance: 3\n",
      "Shortest path to F: ['A', 'F'], distance: 2\n",
      "Shortest path to E: ['A', 'B', 'E'], distance: 5\n",
      "Shortest path to C: ['C'], distance: inf\n",
      "Shortest path to G: ['A', 'B', 'E', 'G'], distance: 7\n",
      "Shortest path to D: ['D'], distance: inf\n",
      "Shortest path to I: ['A', 'B', 'E', 'G', 'I'], distance: 13\n",
      "Shortest path to H: ['A', 'F', 'H'], distance: 8\n"
     ]
    }
   ],
   "source": [
    "graph2 = create_graph_from_file('path_graph_2.txt')\n",
    "\n",
    "source_node2 = 'A'\n",
    "\n",
    "shortest_distances2, predecessors2 = dijkstra(graph2, source_node2)\n",
    "print_results(graph2, source_node2, shortest_distances2, predecessors2)"
   ]
  },
  {
   "cell_type": "markdown",
   "id": "fa0fa5e5",
   "metadata": {},
   "source": [
    "### Graph 3 Results"
   ]
  },
  {
   "cell_type": "code",
   "execution_count": 92,
   "id": "fa98b7b2",
   "metadata": {},
   "outputs": [
    {
     "name": "stdout",
     "output_type": "stream",
     "text": [
      "Shortest path to A: ['A'], distance: 0\n",
      "Shortest path to E: ['A', 'E'], distance: 1\n",
      "Shortest path to B: ['B'], distance: Unreachable\n",
      "Shortest path to C: ['C'], distance: Unreachable\n",
      "Shortest path to G: ['A', 'E', 'G'], distance: 4\n",
      "Shortest path to H: ['A', 'E', 'G', 'H'], distance: 6\n",
      "Shortest path to D: ['D'], distance: Unreachable\n",
      "Shortest path to I: ['I'], distance: Unreachable\n",
      "Shortest path to F: ['A', 'E', 'F'], distance: 4\n"
     ]
    }
   ],
   "source": [
    "graph3 = create_graph_from_file('path_graph_3.txt')\n",
    "\n",
    "source_node3 = 'A'\n",
    "\n",
    "shortest_distances3, predecessors3 = dijkstra(graph3, source_node3)\n",
    "print_results(graph3, source_node3, shortest_distances3, predecessors3)"
   ]
  },
  {
   "cell_type": "markdown",
   "id": "fc84ac9b",
   "metadata": {},
   "source": [
    "### Graph 4 Results"
   ]
  },
  {
   "cell_type": "code",
   "execution_count": 93,
   "id": "feb7ab60",
   "metadata": {},
   "outputs": [
    {
     "name": "stdout",
     "output_type": "stream",
     "text": [
      "Shortest path to A: ['A'], distance: 0\n",
      "Shortest path to B: ['A', 'E', 'B'], distance: 5\n",
      "Shortest path to E: ['A', 'E'], distance: 3\n",
      "Shortest path to D: ['A', 'E', 'C', 'D'], distance: 10\n",
      "Shortest path to C: ['A', 'E', 'C'], distance: 6\n",
      "Shortest path to G: ['A', 'E', 'C', 'G'], distance: 7\n",
      "Shortest path to F: ['A', 'E', 'C', 'F'], distance: 10\n",
      "Shortest path to I: ['A', 'E', 'C', 'D', 'I'], distance: 12\n",
      "Shortest path to H: ['A', 'E', 'C', 'G', 'H'], distance: 12\n"
     ]
    }
   ],
   "source": [
    "graph4 = create_graph_from_file('path_graph_4.txt')\n",
    "\n",
    "source_node4 = 'A'\n",
    "\n",
    "shortest_distances4, predecessors4 = dijkstra(graph4, source_node4)\n",
    "print_results(graph4, source_node4, shortest_distances4, predecessors4)"
   ]
  },
  {
   "cell_type": "markdown",
   "id": "03dc0889",
   "metadata": {},
   "source": [
    "## Problem 2"
   ]
  },
  {
   "cell_type": "markdown",
   "id": "3408cc6a",
   "metadata": {},
   "source": [
    "Given a connected, undirected, weighted graph, find a spanning tree using edges that minimizes the total weight "
   ]
  },
  {
   "cell_type": "markdown",
   "id": "88f99ddc",
   "metadata": {},
   "source": [
    "### Print Method"
   ]
  },
  {
   "cell_type": "code",
   "execution_count": 66,
   "id": "d5f8dbb3",
   "metadata": {},
   "outputs": [],
   "source": [
    "def print_kruskals_result(result):\n",
    "    cost = 0\n",
    "    for edge in result:\n",
    "        cost+=edge[2]\n",
    "        print(f\"{edge[0]} --> {edge[1]} : {edge[2]}\")\n",
    "    print(f\"Minimum Spanning Tree Cost: {cost}\")"
   ]
  },
  {
   "cell_type": "markdown",
   "id": "4bbbd929",
   "metadata": {},
   "source": [
    "### Kruskal's Algorithm"
   ]
  },
  {
   "cell_type": "code",
   "execution_count": 67,
   "id": "9b048cfb",
   "metadata": {
    "scrolled": true
   },
   "outputs": [],
   "source": [
    "def find(parent, i):\n",
    "    if parent[i] == i:\n",
    "        return i\n",
    "    return find(parent, parent[i])\n",
    "\n",
    "def union(parent, rank, x, y):\n",
    "    xroot = find(parent, x)\n",
    "    yroot = find(parent, y)\n",
    "\n",
    "    if rank[xroot] < rank[yroot]:\n",
    "        parent[xroot] = yroot\n",
    "    elif rank[xroot] > rank[yroot]:\n",
    "        parent[yroot] = xroot\n",
    "    else:\n",
    "        parent[yroot] = xroot\n",
    "        rank[xroot] += 1\n",
    "\n",
    "def kruskal(graph):\n",
    "    edges = []\n",
    "    for src, neighbors in graph.items():\n",
    "        for neighbor, weight in neighbors.items():\n",
    "            edges.append((src, neighbor, weight))\n",
    "\n",
    "    n = len(graph)\n",
    "    result = []\n",
    "    edges = sorted(edges, key=lambda x: x[2])  # Sort edges in ascending order of their weights\n",
    "    parent = {letter: letter for letter in graph.keys()}\n",
    "    rank = {letter: 0 for letter in graph.keys()}\n",
    "\n",
    "    for edge in edges:\n",
    "        src, dest, weight = edge\n",
    "        src_parent = find(parent, src)\n",
    "        dest_parent = find(parent, dest)\n",
    "\n",
    "        if src_parent != dest_parent:\n",
    "            result.append(edge)\n",
    "            union(parent, rank, src_parent, dest_parent)\n",
    "\n",
    "    return result\n",
    "\n"
   ]
  },
  {
   "cell_type": "markdown",
   "id": "90e1ffab",
   "metadata": {},
   "source": [
    "### Graph 1 Result"
   ]
  },
  {
   "cell_type": "code",
   "execution_count": 94,
   "id": "d81dcae4",
   "metadata": {
    "scrolled": true
   },
   "outputs": [
    {
     "name": "stdout",
     "output_type": "stream",
     "text": [
      "B --> C : 1\n",
      "C --> E : 1\n",
      "D --> H : 1\n",
      "G --> I : 1\n",
      "A --> F : 2\n",
      "C --> D : 2\n",
      "E --> G : 2\n",
      "A --> B : 3\n",
      "Minimum Spanning Tree Cost: 13\n"
     ]
    }
   ],
   "source": [
    "minimum_spanning_tree1 = kruskal(graph1)\n",
    "print_kruskals_result(minimum_spanning_tree1)"
   ]
  },
  {
   "cell_type": "markdown",
   "id": "e2fdeca0",
   "metadata": {},
   "source": [
    "### Graph 2 Result"
   ]
  },
  {
   "cell_type": "code",
   "execution_count": 95,
   "id": "33df4cf5",
   "metadata": {},
   "outputs": [
    {
     "name": "stdout",
     "output_type": "stream",
     "text": [
      "C --> E : 1\n",
      "C --> G : 1\n",
      "A --> F : 2\n",
      "B --> E : 2\n",
      "A --> B : 3\n",
      "D --> G : 4\n",
      "D --> I : 5\n",
      "F --> H : 6\n",
      "Minimum Spanning Tree Cost: 24\n"
     ]
    }
   ],
   "source": [
    "minimum_spanning_tree2 = kruskal(graph2)\n",
    "print_kruskals_result(minimum_spanning_tree2)"
   ]
  },
  {
   "cell_type": "markdown",
   "id": "4ef596ce",
   "metadata": {},
   "source": [
    "### Graph 5 Result"
   ]
  },
  {
   "cell_type": "code",
   "execution_count": 99,
   "id": "c5377ea6",
   "metadata": {},
   "outputs": [
    {
     "name": "stdout",
     "output_type": "stream",
     "text": [
      "F --> G : 1\n",
      "C --> E : 2\n",
      "G --> H : 2\n",
      "A --> B : 4\n",
      "C --> H : 4\n",
      "C --> D : 7\n",
      "A --> F : 8\n",
      "D --> I : 9\n",
      "Minimum Spanning Tree Cost: 37\n"
     ]
    }
   ],
   "source": [
    "graph5 = create_graph_from_file('path_graph_5.txt')\n",
    "minimum_spanning_tree5 = kruskal(graph5)\n",
    "print_kruskals_result(minimum_spanning_tree5)"
   ]
  },
  {
   "cell_type": "markdown",
   "id": "3f65988f",
   "metadata": {},
   "source": [
    "### Graph 6 Result"
   ]
  },
  {
   "cell_type": "code",
   "execution_count": 100,
   "id": "96a57f9a",
   "metadata": {},
   "outputs": [
    {
     "name": "stdout",
     "output_type": "stream",
     "text": [
      "A --> B : 1\n",
      "A --> F : 1\n",
      "B --> D : 1\n",
      "E --> F : 1\n",
      "B --> C : 2\n",
      "D --> H : 2\n",
      "G --> I : 2\n",
      "E --> I : 3\n",
      "Minimum Spanning Tree Cost: 13\n"
     ]
    }
   ],
   "source": [
    "graph6 = create_graph_from_file('path_graph_6.txt')\n",
    "minimum_spanning_tree6 = kruskal(graph6)\n",
    "print_kruskals_result(minimum_spanning_tree6)"
   ]
  }
 ],
 "metadata": {
  "kernelspec": {
   "display_name": "Python 3 (ipykernel)",
   "language": "python",
   "name": "python3"
  },
  "language_info": {
   "codemirror_mode": {
    "name": "ipython",
    "version": 3
   },
   "file_extension": ".py",
   "mimetype": "text/x-python",
   "name": "python",
   "nbconvert_exporter": "python",
   "pygments_lexer": "ipython3",
   "version": "3.9.12"
  }
 },
 "nbformat": 4,
 "nbformat_minor": 5
}
